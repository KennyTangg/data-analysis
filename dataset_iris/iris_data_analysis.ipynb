{
 "cells": [
  {
   "cell_type": "markdown",
   "metadata": {},
   "source": [
    "Import Libraries"
   ]
  },
  {
   "cell_type": "code",
   "execution_count": null,
   "metadata": {},
   "outputs": [],
   "source": [
    "import pandas as pd\n",
    "import matplotlib.pyplot as plt\n",
    "import seaborn as sns"
   ]
  },
  {
   "cell_type": "markdown",
   "metadata": {},
   "source": [
    "Load the Dataset"
   ]
  },
  {
   "cell_type": "code",
   "execution_count": null,
   "metadata": {},
   "outputs": [],
   "source": [
    "# Load the Iris dataset using pandas\n",
    "iris = pd.read_csv(\"iris.csv\")\n",
    "\n",
    "# Display the first 5 rows of the dataset.\n",
    "iris.head()"
   ]
  },
  {
   "cell_type": "code",
   "execution_count": null,
   "metadata": {},
   "outputs": [],
   "source": [
    "# 1. How many rows and columns does the dataset have?\n",
    "rows, columns = iris.shape\n",
    "print(f\"Rows: {rows}, Columns: {columns}\")\n",
    "# 2. Are there any missing values?\n",
    "# Check for missing values\n",
    "iris.isnull().sum()"
   ]
  },
  {
   "cell_type": "markdown",
   "metadata": {},
   "source": [
    "Histograms"
   ]
  },
  {
   "cell_type": "code",
   "execution_count": null,
   "metadata": {},
   "outputs": [],
   "source": [
    "# Create histograms for each numerical feature.\n",
    "numerical_feature = [\"sepal_length\", \"sepal_width\", \"petal_length\", \"petal_width\"]\n",
    "\n",
    "for each_col in numerical_feature:\n",
    "    plt.grid(axis=\"y\")\n",
    "    plt.hist(iris[each_col], bins=20, edgecolor=\"black\", color=\"orange\", zorder=2)\n",
    "    plt.title(f\"Histogram for {each_col}\")\n",
    "    plt.xlabel(each_col)\n",
    "    plt.ylabel(\"Frequency\")\n",
    "    plt.show()"
   ]
  },
  {
   "cell_type": "code",
   "execution_count": null,
   "metadata": {},
   "outputs": [],
   "source": [
    "# 1. Which feature has the most variability?\n",
    "# To find the most variability we need Standard Derivation\n",
    "standard_derivation = iris[numerical_feature].std()\n",
    "print(standard_derivation)\n",
    "\n",
    "# The feature with the highest standard deviation has the most variability."
   ]
  },
  {
   "cell_type": "markdown",
   "metadata": {},
   "source": [
    "Boxplots"
   ]
  },
  {
   "cell_type": "code",
   "execution_count": null,
   "metadata": {},
   "outputs": [],
   "source": [
    "# Create a boxplot for each numerical feature.\n",
    "for each_col in numerical_feature:\n",
    "    sns.boxplot(iris[each_col], color=\"red\")\n",
    "    plt.title(f\"Boxplot for {each_col}\")\n",
    "    plt.xlabel(each_col)\n",
    "    plt.show()"
   ]
  },
  {
   "cell_type": "code",
   "execution_count": null,
   "metadata": {},
   "outputs": [],
   "source": [
    "# 1. Identify features with outliers\n",
    "# Check for outliers based on the boxplot (inspect visually)\n",
    "\n",
    "# 2. Are there significant differences in the range of values for features?\n",
    "# Find the range (max - min) for each feature\n",
    "ranges = iris[numerical_feature].max() - iris[numerical_feature].min()\n",
    "print(ranges)"
   ]
  },
  {
   "cell_type": "markdown",
   "metadata": {},
   "source": [
    "Pairwise Scatterplots"
   ]
  },
  {
   "cell_type": "code",
   "execution_count": null,
   "metadata": {},
   "outputs": [],
   "source": [
    "# Use Seaborn's pairplot() to create scatterplots of all features.\n",
    "sns.pairplot(iris, hue=\"species\", diag_kind=\"kde\", markers=[\"o\", \"s\", \"D\"])\n",
    "plt.show()"
   ]
  },
  {
   "cell_type": "code",
   "execution_count": null,
   "metadata": {},
   "outputs": [],
   "source": [
    "# 1. Are there any pairs of features that clearly separate the species?\n",
    "# Yes, ( setosa ) and ( versicolor with virginica ) \n",
    "\n",
    "# Which features seem most correlated?\n",
    "# petal_length vs petal_width seem the most correlated"
   ]
  },
  {
   "cell_type": "markdown",
   "metadata": {},
   "source": [
    "Correlation Heatmap"
   ]
  },
  {
   "cell_type": "code",
   "execution_count": null,
   "metadata": {},
   "outputs": [],
   "source": [
    "# Compute the correlation matrix and visualize it as a heatmap.\n",
    "correlation_matrix = iris[numerical_feature].corr()\n",
    "sns.heatmap(correlation_matrix, annot=True, cmap='coolwarm')\n",
    "plt.show()"
   ]
  },
  {
   "cell_type": "code",
   "execution_count": null,
   "metadata": {},
   "outputs": [],
   "source": [
    "# 1.Which pair of features is most strongly correlated?\n",
    "# petal_length and petal_width because it has correlation value of 0.96\n",
    "\n",
    "# 2.Does this correlation make sense based on the scatterplots?\n",
    "# Yes because the more petal_length increase the more petal_width also increase "
   ]
  },
  {
   "cell_type": "markdown",
   "metadata": {},
   "source": [
    "Violin Plots"
   ]
  },
  {
   "cell_type": "code",
   "execution_count": null,
   "metadata": {},
   "outputs": [],
   "source": [
    "# Create a violin plot for sepal_length grouped by species.\n",
    "sns.violinplot(iris,x = \"sepal_length\", y = \"species\",hue = \"species\",split = True, inner = \"quart\")\n",
    "plt.title(\"Violin Plot of Sepal Length\")\n",
    "plt.xlabel(\"Sepal Length\")\n",
    "plt.ylabel(\"Species\")\n",
    "plt.show()"
   ]
  },
  {
   "cell_type": "code",
   "execution_count": null,
   "metadata": {},
   "outputs": [],
   "source": [
    "# 1. Which species has the widest spread for sepal_length?\n",
    "# Virginica\n",
    "\n",
    "# 2. How does the median sepal_length vary across species?\n",
    "# setosa has the lowest median and virginica has the highest median .versicolor has a median that is between setosa and virginica"
   ]
  },
  {
   "cell_type": "markdown",
   "metadata": {},
   "source": [
    "3D Scatter Plot"
   ]
  },
  {
   "cell_type": "code",
   "execution_count": null,
   "metadata": {},
   "outputs": [],
   "source": [
    "# Create a 3D scatter plot for sepal_length, sepal_width, and petal_length.\n",
    "from mpl_toolkits.mplot3d import Axes3D\n",
    "\n",
    "fig = plt.figure()\n",
    "axis = fig.add_subplot(111,projection=\"3d\")\n",
    "\n",
    "axis.scatter(iris['sepal_length'], iris['sepal_width'], iris['petal_length'],c = pd.Categorical(iris['species']).codes, marker = 'o')\n",
    "axis.set_xlabel('Sepal Length')\n",
    "axis.set_ylabel('Sepal Width')\n",
    "axis.set_zlabel('Petal Length')\n",
    "axis.set_title(\"3D Scatter Plot for Sepal Length, Sepal Width, and Petal Length\")\n",
    "plt.show()\n"
   ]
  },
  {
   "cell_type": "code",
   "execution_count": null,
   "metadata": {},
   "outputs": [],
   "source": [
    "# 1. Are there distinct clusters in 3D space for the species?\n",
    "# Yes, there are distinct clusters for each species \n",
    "\n",
    "# 2. How do these clusters compare to the pairwise scatterplots?\n",
    "# The 3D scatter plot shows clear clusters of species but pairwise scatterplots give more insights between pairs of feature"
   ]
  },
  {
   "cell_type": "markdown",
   "metadata": {},
   "source": [
    "Create a Dashboard of Insights"
   ]
  },
  {
   "cell_type": "code",
   "execution_count": null,
   "metadata": {},
   "outputs": [],
   "source": [
    "sns.set(style=\"whitegrid\")\n",
    "\n",
    "fig, axes = plt.subplots(1, 3,figsize = (18,6))\n",
    "\n",
    "# A heatmap for correlations.\n",
    "sns.heatmap(correlation_matrix, annot=True, cmap='coolwarm', ax=axes[0])\n",
    "axes[0].set_title('Correlation Heatmap')\n",
    "\n",
    "#A scatterplot for the two most correlated features.\n",
    "sns.scatterplot(iris, x='petal_length', y=\"petal_width\", hue='species', palette='viridis', ax=axes[1])\n",
    "axes[1].set_title('Scatterplot of Petal Length vs Petal Width')\n",
    "\n",
    "#A violin plot for petal_length grouped by species.\n",
    "sns.violinplot(iris, x='species', y='petal_length',hue='species', palette='Set2', ax=axes[2])\n",
    "axes[2].set_title('Violin Plot for Petal Length by Species')\n",
    "\n",
    "plt.show()"
   ]
  },
  {
   "cell_type": "code",
   "execution_count": null,
   "metadata": {},
   "outputs": [],
   "source": [
    "# 1. Which features are most useful for distinguishing species?\n",
    "# petal length \n",
    "\n",
    "# 2. Are there any unexpected patterns?\n",
    "# Yes,  \n",
    "# - setosa is seperate from the other two species versicolor and virginica\n",
    "# - correlation between petal_length and petal_width is not expected to be that high\n"
   ]
  },
  {
   "cell_type": "markdown",
   "metadata": {},
   "source": [
    "Interactive Visualizations"
   ]
  },
  {
   "cell_type": "code",
   "execution_count": null,
   "metadata": {},
   "outputs": [],
   "source": [
    "import plotly.express as px\n",
    "from plotly.subplots import make_subplots\n",
    "\n",
    "fig = make_subplots(1,2, subplot_titles=(\"Sepal Length vs Sepal Width\", \"Histogram of Sepal Length\"))\n",
    "\n",
    "# Scatterplot \n",
    "scatter = px.scatter(iris, x='sepal_length', y='sepal_width', color='species')\n",
    "for trace in scatter.data:\n",
    "    fig.add_trace(trace, 1, 1)\n",
    "\n",
    "# histogram\n",
    "hist = px.histogram(iris, x='sepal_length', color='species', nbins=20)\n",
    "for trace in hist.data:\n",
    "    fig.add_trace(trace, 1, 2)\n",
    "\n",
    "fig.show()"
   ]
  },
  {
   "cell_type": "code",
   "execution_count": null,
   "metadata": {},
   "outputs": [],
   "source": [
    "# How does interactivity help in exploring the dataset?\n",
    "# - Zooming, panning\n",
    "# - selecting, hovering\n",
    "# - toggle for visibility for cartain feature"
   ]
  }
 ],
 "metadata": {
  "kernelspec": {
   "display_name": "Python 3",
   "language": "python",
   "name": "python3"
  },
  "language_info": {
   "codemirror_mode": {
    "name": "ipython",
    "version": 3
   },
   "file_extension": ".py",
   "mimetype": "text/x-python",
   "name": "python",
   "nbconvert_exporter": "python",
   "pygments_lexer": "ipython3",
   "version": "3.11.9"
  }
 },
 "nbformat": 4,
 "nbformat_minor": 2
}
